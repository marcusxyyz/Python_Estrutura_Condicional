{
  "nbformat": 4,
  "nbformat_minor": 0,
  "metadata": {
    "colab": {
      "name": "exercicio28decisao.ipynb",
      "provenance": [],
      "collapsed_sections": [],
      "authorship_tag": "ABX9TyN5AsL5C3ymHsT98atsajXJ",
      "include_colab_link": true
    },
    "kernelspec": {
      "name": "python3",
      "display_name": "Python 3"
    },
    "language_info": {
      "name": "python"
    }
  },
  "cells": [
    {
      "cell_type": "markdown",
      "metadata": {
        "id": "view-in-github",
        "colab_type": "text"
      },
      "source": [
        "<a href=\"https://colab.research.google.com/github/marcusxyyz/Python_Estrutura_Condicional/blob/main/exercicio28decisao.ipynb\" target=\"_parent\"><img src=\"https://colab.research.google.com/assets/colab-badge.svg\" alt=\"Open In Colab\"/></a>"
      ]
    },
    {
      "cell_type": "markdown",
      "source": [
        "# ***Exercício 28***\n",
        "\n",
        "O Hipermercado Tabajara está com uma promoção de carnes que é imperdível. Confira:\n",
        "\n",
        "                      Até 5 Kg           Acima de 5 Kg\n",
        "\n",
        "    File Duplo      R$ 4,90 por Kg          R$ 5,80 por Kg\n",
        "    Alcatra         R$ 5,90 por Kg          R$ 6,80 por Kg\n",
        "    Picanha         R$ 6,90 por Kg          R$ 7,80 por Kg\n",
        "\n",
        "* Para atender a todos os clientes, cada cliente poderá levar apenas um dos tipos de carne da promoção, porém não há limites para a quantidade de carne por cliente. \n",
        "* Se compra for feita no cartão Tabajara o cliente receberá ainda um desconto de 5% sobre o total da compra. \n",
        "* Escreva um programa que **peça o tipo** e a **quantidade de carne** comprada pelo usuário e gere um cupom fiscal, contendo as informações da compra: tipo e quantidade de carne, preço total, tipo de pagamento, valor do desconto e valor a pagar.\n"
      ],
      "metadata": {
        "id": "IK67UoAin6pe"
      }
    },
    {
      "cell_type": "code",
      "execution_count": 23,
      "metadata": {
        "colab": {
          "base_uri": "https://localhost:8080/"
        },
        "id": "wqBn6-JYnt-e",
        "outputId": "9956dc67-01b8-4965-8fb3-60f280c64c29"
      },
      "outputs": [
        {
          "name": "stdout",
          "output_type": "stream",
          "text": [
            "Qual carne você deseja?\n",
            "1.File Duplo \n",
            "2.Alcatra \n",
            "3.Picanha \n",
            "Opção: 1\n",
            "Quantos quilos? 5.00\n",
            "Compra no cartão tabajara? (s/n): s\n"
          ]
        }
      ],
      "source": [
        "tipo = int(input('Qual carne você deseja?\\n'\n",
        "                 '1.File Duplo \\n'\n",
        "                 '2.Alcatra \\n'\n",
        "                 '3.Picanha \\n'\n",
        "                 'Opção: '))\n",
        "\n",
        "if tipo == 1:\n",
        "  escolha = 'File Duplo'\n",
        "elif tipo == 2:\n",
        "  escolha = 'Alcatra'\n",
        "else:\n",
        "  escolha = 'Picanha'\n",
        "\n",
        "kg = float(input('Quantos quilos? '))\n",
        "cartao = str(input('Compra no cartão tabajara? (s/n): ')).upper()\n",
        "\n",
        "if cartao == 'S':\n",
        "  tabajara = True\n",
        "else:\n",
        "  tabajara = False"
      ]
    },
    {
      "cell_type": "markdown",
      "source": [
        "Valor Bruto"
      ],
      "metadata": {
        "id": "-zy4HzLLsnVU"
      }
    },
    {
      "cell_type": "code",
      "source": [
        "preco = 0\n",
        "precoTotal = 0\n",
        "valorDeCompra = 0\n",
        "if tipo == 1 and kg <= 5.0:\n",
        "  preco = 4.90\n",
        "  precoTotal = preco * kg\n",
        "elif tipo == 1 and kg >= 5.1:\n",
        "  preco = 5.80\n",
        "  precoTotal = preco * kg\n",
        "elif tipo == 2 and kg <= 5.0:\n",
        "  preco = 5.90\n",
        "  precoTotal = preco * kg\n",
        "elif tipo == 2 and kg >= 5.1:\n",
        "  preco = 6.80\n",
        "  precoTotal = preco * kg\n",
        "elif tipo == 3 and kg <= 5.0:\n",
        "  preco = 6.90\n",
        "  precoTotal = preco * kg\n",
        "elif tipo == 3 and kg >= 5.1:\n",
        "  preco = 7.80\n",
        "  precoTotal = preco * kg"
      ],
      "metadata": {
        "id": "HkAfInTkqnJ8"
      },
      "execution_count": 27,
      "outputs": []
    },
    {
      "cell_type": "code",
      "source": [
        "if tabajara:\n",
        "  desconto = 5\n",
        "  valorDeCompra = precoTotal - precoTotal * desconto / 100\n",
        "else:\n",
        "  desconto = 0"
      ],
      "metadata": {
        "id": "g8iZNwnZswY0"
      },
      "execution_count": 35,
      "outputs": []
    },
    {
      "cell_type": "code",
      "source": [
        "print('------------------------------------CUPOM FISCAL------------------------------------') \n",
        "print(f'Tipo da carne: {escolha}, Quantidade {kg} kg, Preco: R$ {round(precoTotal,2)},\\n' \n",
        "      f'Desconto: {desconto} %, Valor a pagar: R$ {round(valorDeCompra, 2)}')\n",
        "print('-------------------------------------------------------------------------------------') "
      ],
      "metadata": {
        "colab": {
          "base_uri": "https://localhost:8080/"
        },
        "id": "ITNhCuHEtCVb",
        "outputId": "8c1a0069-3d2f-438b-86da-b331e8b7ba1d"
      },
      "execution_count": 40,
      "outputs": [
        {
          "output_type": "stream",
          "name": "stdout",
          "text": [
            "------------------------------------CUPOM FISCAL------------------------------------\n",
            "Tipo da carne: File Duplo, Quantidade 5.0 kg, Preco: R$ 24.5,\n",
            "Desconto: 5 %, Valor a pagar: R$ 23.27\n",
            "-------------------------------------------------------------------------------------\n"
          ]
        }
      ]
    }
  ]
}