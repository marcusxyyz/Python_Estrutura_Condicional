{
  "nbformat": 4,
  "nbformat_minor": 0,
  "metadata": {
    "colab": {
      "name": "exercicio16decisao.ipynb",
      "provenance": [],
      "collapsed_sections": [],
      "authorship_tag": "ABX9TyN6XgWLRz2kLvsxU4YGUW2B",
      "include_colab_link": true
    },
    "kernelspec": {
      "name": "python3",
      "display_name": "Python 3"
    },
    "language_info": {
      "name": "python"
    }
  },
  "cells": [
    {
      "cell_type": "markdown",
      "metadata": {
        "id": "view-in-github",
        "colab_type": "text"
      },
      "source": [
        "<a href=\"https://colab.research.google.com/github/marcusxyyz/Python_Estrutura_Condicional/blob/main/exercicio16decisao.ipynb\" target=\"_parent\"><img src=\"https://colab.research.google.com/assets/colab-badge.svg\" alt=\"Open In Colab\"/></a>"
      ]
    },
    {
      "cell_type": "markdown",
      "source": [
        "# ***Exercício 16***\n",
        "Faça um programa que calcule as raízes de uma equação do segundo grau, na forma ax2 + bx + c. O programa deverá pedir os valores de a, b e c e fazer as consistências, informando ao usuário nas seguintes situações:\n",
        "\n",
        "* Se o usuário informar o valor de A igual a zero, a equação não é do segundo grau e o programa não deve fazer pedir os demais valores, sendo encerrado;\n",
        "\n",
        "* Se o delta calculado for negativo, a equação não possui raizes reais. Informe ao usuário e encerre o programa;\n",
        "\n",
        "* Se o delta calculado for igual a zero a equação possui apenas uma raiz real; informe-a ao usuário;\n",
        "\n",
        "* Se o delta for positivo, a equação possui duas raiz reais; informe-as ao usuário;\n",
        "\n",
        "Fórmula de delta:  Δ = b2 – 4ac"
      ],
      "metadata": {
        "id": "sow60utrRElO"
      }
    },
    {
      "cell_type": "code",
      "execution_count": 9,
      "metadata": {
        "colab": {
          "base_uri": "https://localhost:8080/"
        },
        "id": "kfi1_3eqRCyB",
        "outputId": "33259223-5707-44ec-9bf4-c3291b48b929"
      },
      "outputs": [
        {
          "output_type": "stream",
          "name": "stdout",
          "text": [
            "Informe o valor de a: 1\n",
            "Informe o valor de b: 6\n",
            "Informe o valor de c: 9\n",
            "Delta: 0.0\n",
            "A equação possui uma raiz\n"
          ]
        }
      ],
      "source": [
        "import math\n",
        "\n",
        "a = float(input('Informe o valor de a: '))\n",
        "if a == 0:\n",
        "  print('Equação não é de 2° grau')\n",
        "else:\n",
        "  b = float(input('Informe o valor de b: '))\n",
        "  c = float(input('Informe o valor de c: '))\n",
        "  delta = math.pow(b, 2) - 4 * a * c\n",
        "  print(f'Delta: {delta}')\n",
        "  if delta < 0:\n",
        "    print('A equação não possui raizes reais')\n",
        "  elif delta == 0:\n",
        "    print('A equação possui uma raiz')\n",
        "  else:\n",
        "    print('A equação possui duas raizes reais')"
      ]
    }
  ]
}