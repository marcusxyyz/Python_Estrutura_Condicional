{
  "nbformat": 4,
  "nbformat_minor": 0,
  "metadata": {
    "colab": {
      "name": "exercicio19decisao.ipynb",
      "provenance": [],
      "collapsed_sections": [],
      "authorship_tag": "ABX9TyOhunupD45NRmkxXY2+wZV+",
      "include_colab_link": true
    },
    "kernelspec": {
      "name": "python3",
      "display_name": "Python 3"
    },
    "language_info": {
      "name": "python"
    }
  },
  "cells": [
    {
      "cell_type": "markdown",
      "metadata": {
        "id": "view-in-github",
        "colab_type": "text"
      },
      "source": [
        "<a href=\"https://colab.research.google.com/github/marcusxyyz/Python_Estrutura_Condicional/blob/main/exercicio19decisao.ipynb\" target=\"_parent\"><img src=\"https://colab.research.google.com/assets/colab-badge.svg\" alt=\"Open In Colab\"/></a>"
      ]
    },
    {
      "cell_type": "markdown",
      "source": [
        "# ***Exercício 19***\n",
        "Faça um Programa que leia um número inteiro menor que 1000 e imprima a quantidade de centenas, dezenas e unidades do mesmo.\n",
        "Observando os termos no plural a colocação do \"e\", da vírgula entre outros. Exemplo:\n",
        "\n",
        "326 = 3 centenas, 2 dezenas e 6 unidades\n",
        "\n",
        "12 = 1 dezena e 2 unidades \n",
        "\n",
        "Testar com: 326, 300, 100, 320, 310,305, 301, 101, 311, 111, 25, 20, 10, 21, 11, 1, 7 e 16"
      ],
      "metadata": {
        "id": "79TbqG4FZJCQ"
      }
    },
    {
      "cell_type": "code",
      "execution_count": 9,
      "metadata": {
        "id": "f4OLtTqyZG4T",
        "colab": {
          "base_uri": "https://localhost:8080/"
        },
        "outputId": "a5c4ceec-b841-446a-da65-10cb8676fb75"
      },
      "outputs": [
        {
          "output_type": "stream",
          "name": "stdout",
          "text": [
            "Informe um número entre 1 a 999: 311\n",
            "Centena(s): 3, Dezena(s): 1, Unidade(s): 1\n"
          ]
        }
      ],
      "source": [
        "num = int(input('Informe um número entre 1 a 999: '))\n",
        "unidade = 0\n",
        "dezena = 0\n",
        "if num > 999:\n",
        "  print('Número inválido')\n",
        "else:\n",
        "  unidade = num % 10\n",
        "  num = (num - unidade) / 10\n",
        "  dezena = num % 10\n",
        "  num = (num - dezena) / 10\n",
        "  centena = num\n",
        "  dezena = int(dezena)\n",
        "  centena = int(centena)\n",
        "  print(f'Centena(s): {centena}, Dezena(s): {dezena}, Unidade(s): {unidade}')"
      ]
    }
  ]
}