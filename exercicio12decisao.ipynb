{
  "nbformat": 4,
  "nbformat_minor": 0,
  "metadata": {
    "colab": {
      "name": "exercicio12decisao.ipynb",
      "provenance": [],
      "collapsed_sections": [],
      "authorship_tag": "ABX9TyNoOChK6alwn9DKltW0toGS",
      "include_colab_link": true
    },
    "kernelspec": {
      "name": "python3",
      "display_name": "Python 3"
    },
    "language_info": {
      "name": "python"
    }
  },
  "cells": [
    {
      "cell_type": "markdown",
      "metadata": {
        "id": "view-in-github",
        "colab_type": "text"
      },
      "source": [
        "<a href=\"https://colab.research.google.com/github/marcusxyyz/Python_Estrutura_Condicional/blob/main/exercicio12decisao.ipynb\" target=\"_parent\"><img src=\"https://colab.research.google.com/assets/colab-badge.svg\" alt=\"Open In Colab\"/></a>"
      ]
    },
    {
      "cell_type": "markdown",
      "source": [
        "# ***Exercicio 12***\n",
        "Faça um programa para o cálculo de uma folha de pagamento, sabendo que os descontos são do Imposto de Renda, que depende do salário bruto (conforme tabela abaixo) e 3% para o Sindicato e que o FGTS corresponde a 11% do Salário Bruto, mas não é descontado (é a empresa que deposita). O Salário Líquido corresponde ao Salário Bruto menos os descontos. O programa deverá pedir ao usuário o valor da sua hora e a quantidade de horas trabalhadas no mês.\n",
        "\n",
        "* Desconto do IR:\n",
        "\n",
        "* Salário Bruto até 900 (inclusive) - isento\n",
        "\n",
        "* Salário Bruto até 1500 (inclusive) - desconto de 5%\n",
        "\n",
        "* Salário Bruto até 2500 (inclusive) - desconto de 10%\n",
        "\n",
        "* Salário Bruto acima de 2500 - desconto de 20% Imprima na tela as informações, dispostas conforme o exemplo abaixo. No exemplo o valor da hora é 5 e a quantidade de hora é 220.\n",
        "\n",
        "        Salário Bruto: (5 * 220)        : R$ 1100,00\n",
        "        (-) IR (5%)                     : R$   55,00  \n",
        "        (-) INSS ( 10%)                 : R$  110,00\n",
        "        FGTS (11%)                      : R$  121,00\n",
        "        Total de descontos              : R$  165,00\n",
        "        Salário Liquido                 : R$  935,00"
      ],
      "metadata": {
        "id": "IWYLVN7_GBww"
      }
    },
    {
      "cell_type": "code",
      "execution_count": 71,
      "metadata": {
        "colab": {
          "base_uri": "https://localhost:8080/"
        },
        "id": "EsXnW5yYGAUQ",
        "outputId": "39481bdc-6854-4160-f27c-e12de3ffce80"
      },
      "outputs": [
        {
          "name": "stdout",
          "output_type": "stream",
          "text": [
            "Informe o valor recebido por horas? 5\n",
            "Quantas horas trabalhadas no mês? 600\n"
          ]
        }
      ],
      "source": [
        "valorHora = float(input('Informe o valor recebido por horas? '))\n",
        "qtdHoras = int(input('Quantas horas trabalhadas no mês? '))"
      ]
    },
    {
      "cell_type": "code",
      "source": [
        "salarioBruto = valorHora * qtdHoras\n",
        "ir = 0\n",
        "inss = 0\n",
        "fgts = 0\n",
        "salarioLiquido = 0\n",
        "totalDesconto = 0"
      ],
      "metadata": {
        "id": "yDIX_ergG-_B"
      },
      "execution_count": 72,
      "outputs": []
    },
    {
      "cell_type": "code",
      "source": [
        "if salarioBruto <= 900.00:\n",
        "  print('Isento')\n",
        "elif salarioBruto <= 1500:\n",
        "  ir = 5 / 100 * salarioBruto\n",
        "elif salarioBruto <= 2500:\n",
        "  ir = 10 / 100 * salarioBruto\n",
        "else:\n",
        "  ir = 20 / 100 * salarioBruto\n",
        "\n",
        "inss = 10 / 100 * salarioBruto\n",
        "fgts = 11 / 100 * salarioBruto\n",
        "totalDesconto = ir + inss\n",
        "\n",
        "if salarioBruto > 900.00:\n",
        "  salarioLiquido = salarioBruto - totalDesconto\n",
        "else:\n",
        "  salarioLiquido = salarioBruto"
      ],
      "metadata": {
        "id": "GOa1Fw_qHVm5"
      },
      "execution_count": 73,
      "outputs": []
    },
    {
      "cell_type": "code",
      "source": [
        "print(f' Salário Bruto: {round(salarioBruto, 2)}')\n",
        "print(f' (-) IR: R$ {round(ir, 2)}')\n",
        "print(f' (-) INSS: R$ {round(inss, 2)}')\n",
        "print(f' FGTS: R$ {round(fgts, 2)}')\n",
        "print(f' Total de descontos: R$ {round(totalDesconto, 2)}')\n",
        "print(f' Salário liquido: R$ {round(salarioLiquido, 2)}')"
      ],
      "metadata": {
        "colab": {
          "base_uri": "https://localhost:8080/"
        },
        "id": "PGoTkRHkJkRy",
        "outputId": "d9a1e5db-acfc-4ab2-a155-bc3ef16f4482"
      },
      "execution_count": 74,
      "outputs": [
        {
          "output_type": "stream",
          "name": "stdout",
          "text": [
            " Salário Bruto: 3000.0\n",
            " (-) IR: R$ 600.0\n",
            " (-) INSS: R$ 300.0\n",
            " FGTS: R$ 330.0\n",
            " Total de descontos: R$ 900.0\n",
            " Salário liquido: R$ 2100.0\n"
          ]
        }
      ]
    }
  ]
}