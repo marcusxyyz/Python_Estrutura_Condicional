{
  "nbformat": 4,
  "nbformat_minor": 0,
  "metadata": {
    "colab": {
      "name": "exercicio17decisao.ipynb",
      "provenance": [],
      "authorship_tag": "ABX9TyMFyVqHvDzXCQ/OBNBwApSK",
      "include_colab_link": true
    },
    "kernelspec": {
      "name": "python3",
      "display_name": "Python 3"
    },
    "language_info": {
      "name": "python"
    }
  },
  "cells": [
    {
      "cell_type": "markdown",
      "metadata": {
        "id": "view-in-github",
        "colab_type": "text"
      },
      "source": [
        "<a href=\"https://colab.research.google.com/github/marcusxyyz/Python_Estrutura_Condicional/blob/main/exercicio17decisao.ipynb\" target=\"_parent\"><img src=\"https://colab.research.google.com/assets/colab-badge.svg\" alt=\"Open In Colab\"/></a>"
      ]
    },
    {
      "cell_type": "markdown",
      "source": [
        "# ***Exercício 17***\n",
        "Faça um Programa que peça um número correspondente a um determinado ano e em seguida informe se este ano é ou não bissexto"
      ],
      "metadata": {
        "id": "KXMvmBnaUdrH"
      }
    },
    {
      "cell_type": "code",
      "execution_count": 32,
      "metadata": {
        "colab": {
          "base_uri": "https://localhost:8080/"
        },
        "id": "_uIxCwnTUY_w",
        "outputId": "ab35a5c5-8c77-494b-a8d4-4a25f403f3db"
      },
      "outputs": [
        {
          "name": "stdout",
          "output_type": "stream",
          "text": [
            "Informe o ano: 1900\n"
          ]
        }
      ],
      "source": [
        "ano = int(input('Informe o ano: '))"
      ]
    },
    {
      "cell_type": "code",
      "source": [
        "if ano % 4 == 0 and ano % 100 != 0 or ano % 400 == 0:\n",
        "  print(f'{ano} é Bissexto')\n",
        "else:\n",
        "  print(f'{ano} não é Bissexto')"
      ],
      "metadata": {
        "colab": {
          "base_uri": "https://localhost:8080/"
        },
        "id": "aOHlXAHOUzf3",
        "outputId": "d7725841-8ccf-4809-8a70-59fce8e99b7c"
      },
      "execution_count": 33,
      "outputs": [
        {
          "output_type": "stream",
          "name": "stdout",
          "text": [
            "1900 não é Bissexto\n"
          ]
        }
      ]
    }
  ]
}