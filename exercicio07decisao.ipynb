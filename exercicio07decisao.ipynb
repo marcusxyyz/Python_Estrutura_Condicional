{
  "nbformat": 4,
  "nbformat_minor": 0,
  "metadata": {
    "colab": {
      "name": "exercicio07decisao.ipynb",
      "provenance": [],
      "collapsed_sections": [],
      "authorship_tag": "ABX9TyOSW02oZcXoEBeYbisQ36Tt",
      "include_colab_link": true
    },
    "kernelspec": {
      "name": "python3",
      "display_name": "Python 3"
    },
    "language_info": {
      "name": "python"
    }
  },
  "cells": [
    {
      "cell_type": "markdown",
      "metadata": {
        "id": "view-in-github",
        "colab_type": "text"
      },
      "source": [
        "<a href=\"https://colab.research.google.com/github/marcusxyyz/Python_Estrutura_Condicional/blob/main/exercicio07decisao.ipynb\" target=\"_parent\"><img src=\"https://colab.research.google.com/assets/colab-badge.svg\" alt=\"Open In Colab\"/></a>"
      ]
    },
    {
      "cell_type": "markdown",
      "source": [
        "# ***Exercicio 07***\n",
        "Faça um Programa que leia três números e mostre o maior e o menor deles."
      ],
      "metadata": {
        "id": "qFEAgCJsNVhG"
      }
    },
    {
      "cell_type": "code",
      "execution_count": 11,
      "metadata": {
        "colab": {
          "base_uri": "https://localhost:8080/"
        },
        "id": "GHFtCr4ZNVCh",
        "outputId": "faf81c93-6a6f-4c98-e1e1-277593fc1492"
      },
      "outputs": [
        {
          "name": "stdout",
          "output_type": "stream",
          "text": [
            "Digite o primeiro número: 1\n",
            "Digite o segundo número: 0\n",
            "Digite o terceiro número: 2\n"
          ]
        }
      ],
      "source": [
        "n1 = int(input(\"Digite o primeiro número: \"))\n",
        "n2 = int(input(\"Digite o segundo número: \"))\n",
        "n3 = int(input(\"Digite o terceiro número: \"))"
      ]
    },
    {
      "cell_type": "code",
      "source": [
        "if n1 > n2 and n1 > n3:\n",
        "  print(f'{n1} é o maior')\n",
        "elif n2 > n3:\n",
        "  print(f'{n2} é o maior')\n",
        "else:\n",
        "  print(f'{n3} é o maior')"
      ],
      "metadata": {
        "colab": {
          "base_uri": "https://localhost:8080/"
        },
        "id": "9FV_RaAmNgyY",
        "outputId": "b3e50282-b323-4a6d-b8a4-1c2925180ebb"
      },
      "execution_count": 12,
      "outputs": [
        {
          "output_type": "stream",
          "name": "stdout",
          "text": [
            "2 é o maior\n"
          ]
        }
      ]
    },
    {
      "cell_type": "code",
      "source": [
        "if n1 < n2 and n1 < n3:\n",
        "  print(f'{n1} é o menor')\n",
        "elif n2 < n3:\n",
        "  print(f'{n2} é o menor')\n",
        "else:\n",
        "  print(f'{n3} é o menor')"
      ],
      "metadata": {
        "colab": {
          "base_uri": "https://localhost:8080/"
        },
        "id": "Dw-twO3_NjFA",
        "outputId": "9dc04e74-b26c-4189-d24e-346975941750"
      },
      "execution_count": 13,
      "outputs": [
        {
          "output_type": "stream",
          "name": "stdout",
          "text": [
            "0 é o menor\n"
          ]
        }
      ]
    }
  ]
}