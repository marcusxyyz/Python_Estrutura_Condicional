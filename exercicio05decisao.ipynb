{
  "nbformat": 4,
  "nbformat_minor": 0,
  "metadata": {
    "colab": {
      "name": "exercicio05decisao.ipynb",
      "provenance": [],
      "collapsed_sections": [],
      "authorship_tag": "ABX9TyOSympa14SxBKwdMfSUg9OV",
      "include_colab_link": true
    },
    "kernelspec": {
      "name": "python3",
      "display_name": "Python 3"
    },
    "language_info": {
      "name": "python"
    }
  },
  "cells": [
    {
      "cell_type": "markdown",
      "metadata": {
        "id": "view-in-github",
        "colab_type": "text"
      },
      "source": [
        "<a href=\"https://colab.research.google.com/github/marcusxyyz/Python_Estrutura_Condicional/blob/main/exercicio05decisao.ipynb\" target=\"_parent\"><img src=\"https://colab.research.google.com/assets/colab-badge.svg\" alt=\"Open In Colab\"/></a>"
      ]
    },
    {
      "cell_type": "markdown",
      "source": [
        "# ***Exercicio 05***\n",
        "\n",
        "Faça um programa para a leitura de duas notas parciais de um aluno. O programa deve calcular a média alcançada por aluno e apresentar:\n",
        "\n",
        "1.   A mensagem \"Aprovado\", se a média alcançada for maior ou igual a sete;\n",
        "2.   A mensagem \"Reprovado\", se a média for menor do que sete;\n",
        "3.   A mensagem \"Aprovado com Distinção\", se a média for igual a dez.\n",
        "\n"
      ],
      "metadata": {
        "id": "b2Mo-pXeLJ2Q"
      }
    },
    {
      "cell_type": "code",
      "execution_count": 5,
      "metadata": {
        "colab": {
          "base_uri": "https://localhost:8080/"
        },
        "id": "8upYJkFiLFEU",
        "outputId": "3acad987-f287-4442-b1ab-77cdcf08dda4"
      },
      "outputs": [
        {
          "output_type": "stream",
          "name": "stdout",
          "text": [
            "Nota 1: 5.0\n",
            "Nota 2: 5.0\n",
            "Media = 5.0\n"
          ]
        }
      ],
      "source": [
        "n1 = float(input(\"Nota 1: \"))\n",
        "n2 = float(input(\"Nota 2: \"))\n",
        "\n",
        "media = (n1 + n2) / 2.0\n",
        "print(f'Media = {round(media, 2)}')"
      ]
    },
    {
      "cell_type": "code",
      "source": [
        "if media == 10:\n",
        "  print('Aprovado com distinção')\n",
        "elif media >= 7.0:\n",
        "  print('Aprovado')\n",
        "else:\n",
        "  print('Reprovado')"
      ],
      "metadata": {
        "colab": {
          "base_uri": "https://localhost:8080/"
        },
        "id": "TKoDeEmtL3co",
        "outputId": "eee278cb-b80a-4bc2-e0a2-240e106705b9"
      },
      "execution_count": 6,
      "outputs": [
        {
          "output_type": "stream",
          "name": "stdout",
          "text": [
            "Reprovado\n"
          ]
        }
      ]
    }
  ]
}