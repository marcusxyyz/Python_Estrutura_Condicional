{
  "nbformat": 4,
  "nbformat_minor": 0,
  "metadata": {
    "colab": {
      "name": "exercicio01.ipynb",
      "provenance": [],
      "collapsed_sections": [],
      "authorship_tag": "ABX9TyNKRUlnBYCHHbmdYiv0LWMX",
      "include_colab_link": true
    },
    "kernelspec": {
      "name": "python3",
      "display_name": "Python 3"
    },
    "language_info": {
      "name": "python"
    }
  },
  "cells": [
    {
      "cell_type": "markdown",
      "metadata": {
        "id": "view-in-github",
        "colab_type": "text"
      },
      "source": [
        "<a href=\"https://colab.research.google.com/github/marcusxyyz/Python_Estrutura_Condicional/blob/main/exercicio01.ipynb\" target=\"_parent\"><img src=\"https://colab.research.google.com/assets/colab-badge.svg\" alt=\"Open In Colab\"/></a>"
      ]
    },
    {
      "cell_type": "markdown",
      "source": [
        "# ***Exercicio 01***\n",
        "Faça um Programa que peça dois números e imprima o maior deles."
      ],
      "metadata": {
        "id": "BwXaiD0RFDyG"
      }
    },
    {
      "cell_type": "code",
      "execution_count": 5,
      "metadata": {
        "colab": {
          "base_uri": "https://localhost:8080/"
        },
        "id": "HFwp3vvhEcjH",
        "outputId": "035ad181-55e2-4f6a-feac-c03909fbfdb1"
      },
      "outputs": [
        {
          "name": "stdout",
          "output_type": "stream",
          "text": [
            "Digite o primeiro número: 5\n",
            "Digite o segundo número: 10\n"
          ]
        }
      ],
      "source": [
        "n1 = int(input(\"Digite o primeiro número: \"))\n",
        "n2 = int(input(\"Digite o segundo número: \"))"
      ]
    },
    {
      "cell_type": "code",
      "source": [
        "if (n1 > n2):\n",
        "  print(f\"O primeiro número, {n1} é o maior\")\n",
        "else:\n",
        "  print(f\"O segundo número, {n2} é o maior\")"
      ],
      "metadata": {
        "colab": {
          "base_uri": "https://localhost:8080/"
        },
        "id": "Lf9LRhjiFTpO",
        "outputId": "c80375fc-2276-4da3-f936-d965c537d40c"
      },
      "execution_count": 6,
      "outputs": [
        {
          "output_type": "stream",
          "name": "stdout",
          "text": [
            "O segundo número, 10 é o maior\n"
          ]
        }
      ]
    }
  ]
}