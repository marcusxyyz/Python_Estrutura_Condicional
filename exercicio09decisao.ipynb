{
  "nbformat": 4,
  "nbformat_minor": 0,
  "metadata": {
    "colab": {
      "name": "exercicio09decisao.ipynb",
      "provenance": [],
      "collapsed_sections": [],
      "authorship_tag": "ABX9TyNtQxAYglaC+sc8iEngSS5S",
      "include_colab_link": true
    },
    "kernelspec": {
      "name": "python3",
      "display_name": "Python 3"
    },
    "language_info": {
      "name": "python"
    }
  },
  "cells": [
    {
      "cell_type": "markdown",
      "metadata": {
        "id": "view-in-github",
        "colab_type": "text"
      },
      "source": [
        "<a href=\"https://colab.research.google.com/github/marcusxyyz/Python_Estrutura_Condicional/blob/main/exercicio09decisao.ipynb\" target=\"_parent\"><img src=\"https://colab.research.google.com/assets/colab-badge.svg\" alt=\"Open In Colab\"/></a>"
      ]
    },
    {
      "cell_type": "markdown",
      "source": [
        "# ***Exercicio 09***\n",
        "Faça um Programa que leia três números e mostre-os em ordem decrescente."
      ],
      "metadata": {
        "id": "q4mTU5syO-es"
      }
    },
    {
      "cell_type": "code",
      "execution_count": 44,
      "metadata": {
        "colab": {
          "base_uri": "https://localhost:8080/"
        },
        "id": "NPFOhlX8O-BE",
        "outputId": "c988f176-817e-4cf3-b8e3-879235c8e186"
      },
      "outputs": [
        {
          "name": "stdout",
          "output_type": "stream",
          "text": [
            "Digite o primeiro número: 1\n",
            "Digite o segundo número: 2\n",
            "Digite o terceiro número: 3\n"
          ]
        }
      ],
      "source": [
        "n1 = int(input(\"Digite o primeiro número: \"))\n",
        "n2 = int(input(\"Digite o segundo número: \"))\n",
        "n3 = int(input(\"Digite o terceiro número: \"))"
      ]
    },
    {
      "cell_type": "code",
      "source": [
        "if n3 > n2:\n",
        "  aux = n3\n",
        "  n3 = n2\n",
        "  n2 = aux\n",
        "if n2 > n1:\n",
        "  aux = n2\n",
        "  n2 = n1\n",
        "  n1 = aux\n",
        "if n3 > n2:\n",
        "  aux = n3\n",
        "  n3 = n2\n",
        "  n2 = aux\n",
        "print(f'{n1}, {n2}, {n3}')"
      ],
      "metadata": {
        "colab": {
          "base_uri": "https://localhost:8080/"
        },
        "id": "ogf0cX2JPVbI",
        "outputId": "e23e4f3a-048c-421d-caa1-f2bb3c9f6d6f"
      },
      "execution_count": 45,
      "outputs": [
        {
          "output_type": "stream",
          "name": "stdout",
          "text": [
            "3, 2, 1\n"
          ]
        }
      ]
    }
  ]
}