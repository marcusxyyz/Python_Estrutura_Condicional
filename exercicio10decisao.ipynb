{
  "nbformat": 4,
  "nbformat_minor": 0,
  "metadata": {
    "colab": {
      "name": "exercicio10decisao.ipynb",
      "provenance": [],
      "authorship_tag": "ABX9TyNitl9dhB74X8sofaASnOkV",
      "include_colab_link": true
    },
    "kernelspec": {
      "name": "python3",
      "display_name": "Python 3"
    },
    "language_info": {
      "name": "python"
    }
  },
  "cells": [
    {
      "cell_type": "markdown",
      "metadata": {
        "id": "view-in-github",
        "colab_type": "text"
      },
      "source": [
        "<a href=\"https://colab.research.google.com/github/marcusxyyz/Python_Estrutura_Condicional/blob/main/exercicio10decisao.ipynb\" target=\"_parent\"><img src=\"https://colab.research.google.com/assets/colab-badge.svg\" alt=\"Open In Colab\"/></a>"
      ]
    },
    {
      "cell_type": "markdown",
      "source": [
        "# ***Exercício 10***\n",
        "Faça um Programa que pergunte em que turno você estuda. Peça para digitar M-matutino ou V-Vespertino ou N- Noturno. Imprima a mensagem \"Bom Dia!\", \"Boa Tarde!\" ou \"Boa Noite!\" ou \"Valor Inválido!\", conforme o caso"
      ],
      "metadata": {
        "id": "NM-kaAeiUdcs"
      }
    },
    {
      "cell_type": "code",
      "execution_count": 11,
      "metadata": {
        "colab": {
          "base_uri": "https://localhost:8080/"
        },
        "id": "6OmMGcLfUawQ",
        "outputId": "46f129fe-e6a7-4501-be12-bec394f6ce9c"
      },
      "outputs": [
        {
          "name": "stdout",
          "output_type": "stream",
          "text": [
            "Qual turno você estuda? v\n"
          ]
        }
      ],
      "source": [
        "turno = str(input('Qual turno você estuda? '))\n",
        "turno = turno.upper()"
      ]
    },
    {
      "cell_type": "code",
      "source": [
        "if turno == 'M':\n",
        "  print('Bom dia')\n",
        "elif turno == 'V':\n",
        "  print('Boa Tarde')\n",
        "elif turno == 'N':\n",
        "  print('Boa noite')\n",
        "else:\n",
        "  print('Valor inválido')"
      ],
      "metadata": {
        "colab": {
          "base_uri": "https://localhost:8080/"
        },
        "id": "n_H7zgPLU8CJ",
        "outputId": "0051984a-208d-4fa1-c0bc-cbffa7cdefd8"
      },
      "execution_count": 12,
      "outputs": [
        {
          "output_type": "stream",
          "name": "stdout",
          "text": [
            "Boa Tarde\n"
          ]
        }
      ]
    }
  ]
}