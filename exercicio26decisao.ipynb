{
  "nbformat": 4,
  "nbformat_minor": 0,
  "metadata": {
    "colab": {
      "name": "exercicio26decisao.ipynb",
      "provenance": [],
      "collapsed_sections": [],
      "authorship_tag": "ABX9TyPz8Jol2LmiJ+4WL2m4+kpO",
      "include_colab_link": true
    },
    "kernelspec": {
      "name": "python3",
      "display_name": "Python 3"
    },
    "language_info": {
      "name": "python"
    }
  },
  "cells": [
    {
      "cell_type": "markdown",
      "metadata": {
        "id": "view-in-github",
        "colab_type": "text"
      },
      "source": [
        "<a href=\"https://colab.research.google.com/github/marcusxyyz/Python_Estrutura_Condicional/blob/main/exercicio26decisao.ipynb\" target=\"_parent\"><img src=\"https://colab.research.google.com/assets/colab-badge.svg\" alt=\"Open In Colab\"/></a>"
      ]
    },
    {
      "cell_type": "markdown",
      "source": [
        "# ***Exercício 26***\n",
        "Um posto está vendendo combustíveis com a seguinte tabela de descontos:\n",
        "\n",
        "* Álcool:\n",
        "\n",
        "* até 20 litros, desconto de 3% por litro\n",
        "\n",
        "* acima de 20 litros, desconto de 5% por litro\n",
        "\n",
        "* Gasolina:\n",
        "\n",
        "* até 20 litros, desconto de 4% por litro\n",
        "\n",
        "* acima de 20 litros, desconto de 6% por litro.\n",
        "\n",
        "Escreva um algoritmo que leia o número de litros vendidos, o tipo de combustível (codificado da seguinte forma: A-álcool, G-gasolina), calcule e imprima o valor a ser pago pelo cliente sabendo-se que o preço do litro da gasolina é R$ 2,50 \n",
        "\n",
        "o preço do litro do álcool é R$ 1,90."
      ],
      "metadata": {
        "id": "wDWkLvhMMkCo"
      }
    },
    {
      "cell_type": "code",
      "execution_count": 21,
      "metadata": {
        "colab": {
          "base_uri": "https://localhost:8080/"
        },
        "id": "V-z1i-ugMhiN",
        "outputId": "6954e0ed-d710-4e0a-a665-1faa515ae0c8"
      },
      "outputs": [
        {
          "name": "stdout",
          "output_type": "stream",
          "text": [
            "Litros: 27.0\n",
            "Tipo do combustível!!\n",
            " A - Álcool\n",
            " G - Gasoline:\n",
            " Opção: g\n"
          ]
        }
      ],
      "source": [
        "litros = float(input('Litros: '))\n",
        "tipo = str(input('Tipo do combustível!!'\n",
        "                 '\\n A - Álcool'\n",
        "                 '\\n G - Gasoline:'\n",
        "                 '\\n Opção: ').upper())"
      ]
    },
    {
      "cell_type": "code",
      "source": [
        "preco = 0\n",
        "valorTotal = 0\n",
        "if tipo == 'A':\n",
        "  if litros <= 20.0:\n",
        "      preco = 1.90\n",
        "      valorTotal = litros * preco * 0.03 + litros * preco\n",
        "      print(f'Litros: {litros}, Preco do litro {preco}, Valor Total R$: {round(valorTotal, 2)}')\n",
        "  else:\n",
        "    preco = 1.90\n",
        "    valorTotal = litros * preco * 0.05 + litros * preco\n",
        "    print(f'Litros: {litros}, Preco do litro {preco}, Valor Total R$: {round(valorTotal, 2)}')\n",
        "elif tipo == 'G':\n",
        "  if litros <= 20.0:\n",
        "    preco = 2.50\n",
        "    valorTotal = litros * preco * 0.04 + litros * preco\n",
        "    print(f'Litros: {litros}, Preco do litro {preco}, Valor Total R$: {round(valorTotal, 2)}')\n",
        "  else:\n",
        "    preco = 2.50\n",
        "    valorTotal = litros * preco * 0.06 + litros * preco\n",
        "    print(f'Litros: {litros}, Preco do litro {preco}, Valor Total R$: {round(valorTotal, 2)}')\n",
        "else:\n",
        "  print('Essa opção não existe')"
      ],
      "metadata": {
        "colab": {
          "base_uri": "https://localhost:8080/"
        },
        "id": "2_i5GqfjOA1f",
        "outputId": "db98dcb6-782a-4902-90d4-e257d23ca07a"
      },
      "execution_count": 22,
      "outputs": [
        {
          "output_type": "stream",
          "name": "stdout",
          "text": [
            "Litros: 27.0, Preco do litro 2.5, Valor Total R$: 71.55\n"
          ]
        }
      ]
    }
  ]
}