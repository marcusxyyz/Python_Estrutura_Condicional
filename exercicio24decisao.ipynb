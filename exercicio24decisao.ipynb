{
  "nbformat": 4,
  "nbformat_minor": 0,
  "metadata": {
    "colab": {
      "name": "exercicio24decisao.ipynb",
      "provenance": [],
      "collapsed_sections": [],
      "authorship_tag": "ABX9TyOldy3CE9a6NnMTU6ekpPnn",
      "include_colab_link": true
    },
    "kernelspec": {
      "name": "python3",
      "display_name": "Python 3"
    },
    "language_info": {
      "name": "python"
    }
  },
  "cells": [
    {
      "cell_type": "markdown",
      "metadata": {
        "id": "view-in-github",
        "colab_type": "text"
      },
      "source": [
        "<a href=\"https://colab.research.google.com/github/marcusxyyz/Python_Estrutura_Condicional/blob/main/exercicio24decisao.ipynb\" target=\"_parent\"><img src=\"https://colab.research.google.com/assets/colab-badge.svg\" alt=\"Open In Colab\"/></a>"
      ]
    },
    {
      "cell_type": "markdown",
      "source": [
        "# ***Exercício 24***\n",
        "Faça um Programa que leia 2 números e em seguida pergunte ao usuário qual operação ele deseja realizar. O resultado da operação deve ser acompanhado de uma frase que diga se o número é:\n",
        "\n",
        "* par ou ímpar;\n",
        "\n",
        "* positivo ou negativo;\n",
        "\n",
        "* inteiro ou decimal."
      ],
      "metadata": {
        "id": "q499tILOGp-C"
      }
    },
    {
      "cell_type": "code",
      "execution_count": 17,
      "metadata": {
        "colab": {
          "base_uri": "https://localhost:8080/"
        },
        "id": "d1S8Y2-TGf3g",
        "outputId": "8cdbd1ba-7b5d-4188-bd9a-545c9b124082"
      },
      "outputs": [
        {
          "name": "stdout",
          "output_type": "stream",
          "text": [
            "Informe o primeiro valor: -5\n",
            "Imforme o segundo valor: -5\n",
            "Qual operação devo realizar!!\n",
            " 1.Par ou Ímpar\n",
            " 2.Positivo ou Negativo \n",
            " 3.Inteiro ou Decimal \n",
            " Opção: 2\n"
          ]
        }
      ],
      "source": [
        "num1 = float(input('Informe o primeiro valor: '))\n",
        "num2 = float(input('Imforme o segundo valor: '))\n",
        "escolha = int(input('Qual operação devo realizar!!'\n",
        "                    '\\n 1.Par ou Ímpar' \n",
        "                    '\\n 2.Positivo ou Negativo '\n",
        "                    '\\n 3.Inteiro ou Decimal '\n",
        "                    '\\n Opção: '))"
      ]
    },
    {
      "cell_type": "code",
      "source": [
        "if escolha == 1:\n",
        "  if num1 % 2 == 0:\n",
        "    print(f'{num1} é PAR')\n",
        "  else: \n",
        "    print(f'{num1} é ÍMPAR')\n",
        "  if num2 % 2 == 0:\n",
        "    print(f'{num2} é PAR')\n",
        "  else:\n",
        "    print(f'{num2} é ÍMPAR')\n",
        "elif escolha == 2:\n",
        "  if num1 >= 0:\n",
        "    print(f'{num1} é POSITIVO')\n",
        "  else:\n",
        "    print(f'{num1} é NEGATIVO')\n",
        "  if num2 >= 0 :\n",
        "    print(f'{num2} é POSITIVO')\n",
        "  else:\n",
        "    print(f'{num2} é NEGATIVO')\n",
        "elif escolha == 3:\n",
        "  if num1 * 10 % 10 == 0:\n",
        "    print(f'{num1} é Inteiro')\n",
        "  else:\n",
        "    print(f'{num1} é Decimal')\n",
        "  if num2 * 10 % 10 == 0:\n",
        "    print(f'{num2} é Inteiro')\n",
        "  else:\n",
        "    print(f'{num2} é Decimal')\n",
        "else:\n",
        "  print('Esta opção não existe!!!')"
      ],
      "metadata": {
        "colab": {
          "base_uri": "https://localhost:8080/"
        },
        "id": "dHQ8TAysHjZP",
        "outputId": "22beb2cf-5806-4ac0-8cbd-c7b34550e73c"
      },
      "execution_count": 18,
      "outputs": [
        {
          "output_type": "stream",
          "name": "stdout",
          "text": [
            "-5.0 é NEGATIVO\n",
            "-5.0 é NEGATIVO\n"
          ]
        }
      ]
    }
  ]
}