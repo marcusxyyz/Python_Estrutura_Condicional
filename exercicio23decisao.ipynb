{
  "nbformat": 4,
  "nbformat_minor": 0,
  "metadata": {
    "colab": {
      "name": "exercicio23decisao.ipynb",
      "provenance": [],
      "authorship_tag": "ABX9TyMbySW2VWqcrlfrnJQSEvKZ",
      "include_colab_link": true
    },
    "kernelspec": {
      "name": "python3",
      "display_name": "Python 3"
    },
    "language_info": {
      "name": "python"
    }
  },
  "cells": [
    {
      "cell_type": "markdown",
      "metadata": {
        "id": "view-in-github",
        "colab_type": "text"
      },
      "source": [
        "<a href=\"https://colab.research.google.com/github/marcusxyyz/Python_Estrutura_Condicional/blob/main/exercicio23decisao.ipynb\" target=\"_parent\"><img src=\"https://colab.research.google.com/assets/colab-badge.svg\" alt=\"Open In Colab\"/></a>"
      ]
    },
    {
      "cell_type": "markdown",
      "source": [
        "# ***Exercício 23***\n",
        "\n",
        "Faça um Programa que peça um número e informe se o número é inteiro ou decimal. Dica: utilize uma função de arredondamento."
      ],
      "metadata": {
        "id": "VotPOHyYEJpV"
      }
    },
    {
      "cell_type": "code",
      "execution_count": 9,
      "metadata": {
        "colab": {
          "base_uri": "https://localhost:8080/"
        },
        "id": "2CakKX6UEJA8",
        "outputId": "91bf7f87-fc5d-40af-ec00-8357bfc8f940"
      },
      "outputs": [
        {
          "name": "stdout",
          "output_type": "stream",
          "text": [
            "Informe um número: 9\n"
          ]
        }
      ],
      "source": [
        "num = float(input('Informe um número: '))"
      ]
    },
    {
      "cell_type": "code",
      "source": [
        "if num * 10 % 10 == 0:\n",
        "  print(f'{num} é Inteiro')\n",
        "else:\n",
        "  print(f'{num} é Decimal')"
      ],
      "metadata": {
        "colab": {
          "base_uri": "https://localhost:8080/"
        },
        "id": "KVIrP9FoEqYL",
        "outputId": "51de4e49-fce4-430c-f128-5d5a8b368f6e"
      },
      "execution_count": 10,
      "outputs": [
        {
          "output_type": "stream",
          "name": "stdout",
          "text": [
            "9.0 é Inteiro\n"
          ]
        }
      ]
    }
  ]
}