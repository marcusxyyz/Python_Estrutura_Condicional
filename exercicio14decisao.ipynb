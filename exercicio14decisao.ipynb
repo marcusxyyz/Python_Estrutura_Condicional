{
  "nbformat": 4,
  "nbformat_minor": 0,
  "metadata": {
    "colab": {
      "name": "exercicio14decisao.ipynb",
      "provenance": [],
      "collapsed_sections": [],
      "authorship_tag": "ABX9TyMZ/h7xRr+S62uX+IRAXUo9",
      "include_colab_link": true
    },
    "kernelspec": {
      "name": "python3",
      "display_name": "Python 3"
    },
    "language_info": {
      "name": "python"
    }
  },
  "cells": [
    {
      "cell_type": "markdown",
      "metadata": {
        "id": "view-in-github",
        "colab_type": "text"
      },
      "source": [
        "<a href=\"https://colab.research.google.com/github/marcusxyyz/Python_Estrutura_Condicional/blob/main/exercicio14decisao.ipynb\" target=\"_parent\"><img src=\"https://colab.research.google.com/assets/colab-badge.svg\" alt=\"Open In Colab\"/></a>"
      ]
    },
    {
      "cell_type": "markdown",
      "source": [
        "# ***Exercício 14***\n",
        "Faça um programa que lê as duas notas parciais obtidas por um aluno numa disciplina ao longo de um semestre, e calcule a sua média. A atribuição de conceitos obedece à tabela abaixo:\n",
        "\n",
        "  Média de Aproveitamento  Conceito\n",
        "\n",
        "* Entre 9.0 e 10.0        A\n",
        "\n",
        "* Entre 7.5 e 9.0         B\n",
        "\n",
        "* Entre 6.0 e 7.5         C\n",
        "\n",
        "* Entre 4.0 e 6.0         D\n",
        "\n",
        "* Entre 4.0 e zero        E\n",
        "\n",
        "O algoritmo deve mostrar na tela as notas, a média, o conceito correspondente e a mensagem “APROVADO” se o conceito for A, B ou C ou “REPROVADO” se o conceito for D ou E."
      ],
      "metadata": {
        "id": "lRfkL_hKQ2cc"
      }
    },
    {
      "cell_type": "code",
      "execution_count": 40,
      "metadata": {
        "colab": {
          "base_uri": "https://localhost:8080/"
        },
        "id": "ZVRyIBETQzB3",
        "outputId": "33a68be1-28e8-452c-96bf-504c1f31e2ab"
      },
      "outputs": [
        {
          "name": "stdout",
          "output_type": "stream",
          "text": [
            "Nota 1: 7.9\n",
            "Nota 2: 7.9\n"
          ]
        }
      ],
      "source": [
        "n1 = float(input('Nota 1: '))\n",
        "n2 = float(input('Nota 2: '))\n",
        "media = (n1 + n2) / 2.0\n",
        "conceito = ' '\n",
        "result = ' '"
      ]
    },
    {
      "cell_type": "code",
      "source": [
        "if media >= 9.0:\n",
        "  conceito = 'A'\n",
        "  result = 'APROVADO'\n",
        "elif media >= 7.5:\n",
        "  conceito = 'B'\n",
        "  result = 'APROVADO'\n",
        "elif media >= 6.0:\n",
        "  conceito = 'C'\n",
        "  result = 'APROVADO'\n",
        "elif media >= 4.0:\n",
        "  conceito = 'D'\n",
        "  result = 'REPROVADO'\n",
        "else:\n",
        "  conceito = 'E'\n",
        "  result = 'REPROVADO'"
      ],
      "metadata": {
        "id": "5lKSbQGGRTqM"
      },
      "execution_count": 41,
      "outputs": []
    },
    {
      "cell_type": "code",
      "source": [
        "print(f'Media = {media}, Conceito: {conceito}, e você foi {result}')"
      ],
      "metadata": {
        "colab": {
          "base_uri": "https://localhost:8080/"
        },
        "id": "aShnpxEDS4nd",
        "outputId": "91f49ad6-dac4-403b-ea01-82c4571cfff8"
      },
      "execution_count": 42,
      "outputs": [
        {
          "output_type": "stream",
          "name": "stdout",
          "text": [
            "Media = 7.9, Conceito: B, e você foi APROVADO\n"
          ]
        }
      ]
    }
  ]
}