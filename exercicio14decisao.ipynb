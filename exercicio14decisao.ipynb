{
  "nbformat": 4,
  "nbformat_minor": 0,
  "metadata": {
    "colab": {
      "name": "exercicio14decisao.ipynb",
      "provenance": [],
      "collapsed_sections": [],
      "authorship_tag": "ABX9TyM7vjxtFKWxle67cCiC0Hvi",
      "include_colab_link": true
    },
    "kernelspec": {
      "name": "python3",
      "display_name": "Python 3"
    },
    "language_info": {
      "name": "python"
    }
  },
  "cells": [
    {
      "cell_type": "markdown",
      "metadata": {
        "id": "view-in-github",
        "colab_type": "text"
      },
      "source": [
        "<a href=\"https://colab.research.google.com/github/marcusxyyz/Python_Estrutura_Condicional/blob/main/exercicio14decisao.ipynb\" target=\"_parent\"><img src=\"https://colab.research.google.com/assets/colab-badge.svg\" alt=\"Open In Colab\"/></a>"
      ]
    },
    {
      "cell_type": "markdown",
      "source": [
        "# ***Exercício 14***\n",
        "Faça um programa que lê as duas notas parciais obtidas por um aluno numa disciplina ao longo de um semestre, e calcule a sua média. A atribuição de conceitos obedece à tabela abaixo:\n",
        "\n",
        "  Média de Aproveitamento  Conceito\n",
        "\n",
        "* Entre 9.0 e 10.0        A\n",
        "\n",
        "* Entre 7.5 e 9.0         B\n",
        "\n",
        "* Entre 6.0 e 7.5         C\n",
        "\n",
        "* Entre 4.0 e 6.0         D\n",
        "\n",
        "* Entre 4.0 e zero        E"
      ],
      "metadata": {
        "id": "lRfkL_hKQ2cc"
      }
    },
    {
      "cell_type": "code",
      "execution_count": 29,
      "metadata": {
        "colab": {
          "base_uri": "https://localhost:8080/"
        },
        "id": "ZVRyIBETQzB3",
        "outputId": "6b91267d-ebf9-4093-ac21-00c8980973f2"
      },
      "outputs": [
        {
          "output_type": "stream",
          "name": "stdout",
          "text": [
            "Nota 1: 7.5\n",
            "Nota 2: 7.5\n",
            "7.5\n"
          ]
        }
      ],
      "source": [
        "n1 = float(input('Nota 1: '))\n",
        "n2 = float(input('Nota 2: '))\n",
        "media = (n1 + n2) / 2.0\n",
        "print(media)"
      ]
    },
    {
      "cell_type": "code",
      "source": [
        "if media >= 9.0:\n",
        "  print('A')\n",
        "elif media >= 7.5:\n",
        "  print('B')\n",
        "elif media >= 6.0:\n",
        "  print('C')\n",
        "elif media >= 4.0:\n",
        "  print('D')\n",
        "else:\n",
        "  print('E')"
      ],
      "metadata": {
        "colab": {
          "base_uri": "https://localhost:8080/"
        },
        "id": "5lKSbQGGRTqM",
        "outputId": "dd19d65d-5dad-4d8c-9244-dd375790105f"
      },
      "execution_count": 30,
      "outputs": [
        {
          "output_type": "stream",
          "name": "stdout",
          "text": [
            "B\n"
          ]
        }
      ]
    }
  ]
}