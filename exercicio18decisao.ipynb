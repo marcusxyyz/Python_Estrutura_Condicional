{
  "nbformat": 4,
  "nbformat_minor": 0,
  "metadata": {
    "colab": {
      "name": "exercicio18decisao.ipynb",
      "provenance": [],
      "collapsed_sections": [],
      "authorship_tag": "ABX9TyNHK5VKHn3jpJ/VCNF48lEf",
      "include_colab_link": true
    },
    "kernelspec": {
      "name": "python3",
      "display_name": "Python 3"
    },
    "language_info": {
      "name": "python"
    }
  },
  "cells": [
    {
      "cell_type": "markdown",
      "metadata": {
        "id": "view-in-github",
        "colab_type": "text"
      },
      "source": [
        "<a href=\"https://colab.research.google.com/github/marcusxyyz/Python_Estrutura_Condicional/blob/main/exercicio18decisao.ipynb\" target=\"_parent\"><img src=\"https://colab.research.google.com/assets/colab-badge.svg\" alt=\"Open In Colab\"/></a>"
      ]
    },
    {
      "cell_type": "markdown",
      "source": [
        "# ***Exercicio 18***\n",
        "Faça um Programa que peça uma data no formato dd/mm/aaaa e determine se a mesma é uma data válida."
      ],
      "metadata": {
        "id": "_7LxMdf4Wz-4"
      }
    },
    {
      "cell_type": "code",
      "execution_count": 4,
      "metadata": {
        "colab": {
          "base_uri": "https://localhost:8080/"
        },
        "id": "vgVe8gHVWxN7",
        "outputId": "3e54fa64-5df8-4bbe-dcdd-b737896b0262"
      },
      "outputs": [
        {
          "name": "stdout",
          "output_type": "stream",
          "text": [
            "Informe o dia: 35\n",
            "Informe o mês: 10\n",
            "Informe o ano: 1993\n"
          ]
        }
      ],
      "source": [
        "dia = int(input('Informe o dia: '))\n",
        "mes = int(input('Informe o mês: '))\n",
        "ano = int(input('Informe o ano: '))"
      ]
    },
    {
      "cell_type": "code",
      "source": [
        "if mes == 1 and dia > 31:\n",
        "  print('Data inválida')\n",
        "elif mes == 2 and dia > 28:\n",
        "  print('Data inválida')\n",
        "elif mes == 3 and dia > 31:\n",
        "  print('Data inválida')\n",
        "elif mes == 4 and dia > 30:\n",
        "  print('Data inválida') \n",
        "elif mes == 5 and dia > 31:\n",
        "  print('Data inválida')\n",
        "elif mes == 6 and dia > 30:\n",
        "  print('Data inválida')\n",
        "elif mes == 7 and dia > 31:\n",
        "  print('Data inválida')\n",
        "elif mes == 8 and dia > 31:\n",
        "  print('Data inválida')\n",
        "elif mes == 9 and dia > 30:\n",
        "  print('Data inválida')\n",
        "elif mes == 10 and dia > 31:\n",
        "  print('Data inválida')\n",
        "elif mes == 11 and dia > 30:\n",
        "  print('Data inválida')\n",
        "elif mes == 12 and dia > 31:\n",
        "  print('Data inválida')\n",
        "else:\n",
        "  print(f'{dia}/{mes}/{ano}')\n"
      ],
      "metadata": {
        "colab": {
          "base_uri": "https://localhost:8080/"
        },
        "id": "R2ZnScv-Xgon",
        "outputId": "eda4e869-ee1e-41d0-a6f9-2b43e59bccba"
      },
      "execution_count": 5,
      "outputs": [
        {
          "output_type": "stream",
          "name": "stdout",
          "text": [
            "Data inválida\n"
          ]
        }
      ]
    }
  ]
}