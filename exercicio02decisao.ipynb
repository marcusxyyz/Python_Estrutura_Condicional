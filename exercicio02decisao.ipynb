{
  "nbformat": 4,
  "nbformat_minor": 0,
  "metadata": {
    "colab": {
      "name": "exercicio02decisao.ipynb",
      "provenance": [],
      "authorship_tag": "ABX9TyNwB2kD6+2+uvhGtCwqf+Ei",
      "include_colab_link": true
    },
    "kernelspec": {
      "name": "python3",
      "display_name": "Python 3"
    },
    "language_info": {
      "name": "python"
    }
  },
  "cells": [
    {
      "cell_type": "markdown",
      "metadata": {
        "id": "view-in-github",
        "colab_type": "text"
      },
      "source": [
        "<a href=\"https://colab.research.google.com/github/marcusxyyz/Python_Estrutura_Condicional/blob/main/exercicio02decisao.ipynb\" target=\"_parent\"><img src=\"https://colab.research.google.com/assets/colab-badge.svg\" alt=\"Open In Colab\"/></a>"
      ]
    },
    {
      "cell_type": "markdown",
      "source": [
        "# ***Exercicio 02***\n",
        "Faça um Programa que peça um valor e mostre na tela se o valor é positivo ou negativo."
      ],
      "metadata": {
        "id": "F2z6Fp2fII1P"
      }
    },
    {
      "cell_type": "code",
      "execution_count": 5,
      "metadata": {
        "colab": {
          "base_uri": "https://localhost:8080/"
        },
        "id": "Yw-ILICFIGJw",
        "outputId": "866e0505-adfd-4c3b-bf4f-fa1e29a9230b"
      },
      "outputs": [
        {
          "name": "stdout",
          "output_type": "stream",
          "text": [
            "Informe um valor: -3\n"
          ]
        }
      ],
      "source": [
        "num = int(input('Informe um valor: '))"
      ]
    },
    {
      "cell_type": "code",
      "source": [
        "if (num >= 0):\n",
        "  print(\"POSITIVO\")\n",
        "else:\n",
        "  print(\"NEGATIVO\")"
      ],
      "metadata": {
        "colab": {
          "base_uri": "https://localhost:8080/"
        },
        "id": "mU6szPRnIY6_",
        "outputId": "46e33d97-51c9-4ee0-d8dd-930b8b242a27"
      },
      "execution_count": 6,
      "outputs": [
        {
          "output_type": "stream",
          "name": "stdout",
          "text": [
            "NEGATIVO\n"
          ]
        }
      ]
    }
  ]
}