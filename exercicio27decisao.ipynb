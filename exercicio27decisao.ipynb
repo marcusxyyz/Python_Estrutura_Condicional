{
  "nbformat": 4,
  "nbformat_minor": 0,
  "metadata": {
    "colab": {
      "name": "exercicio27decisao.ipynb",
      "provenance": [],
      "collapsed_sections": [],
      "authorship_tag": "ABX9TyMOsM+4xuipjBZc6JGD/WZV",
      "include_colab_link": true
    },
    "kernelspec": {
      "name": "python3",
      "display_name": "Python 3"
    },
    "language_info": {
      "name": "python"
    }
  },
  "cells": [
    {
      "cell_type": "markdown",
      "metadata": {
        "id": "view-in-github",
        "colab_type": "text"
      },
      "source": [
        "<a href=\"https://colab.research.google.com/github/marcusxyyz/Python_Estrutura_Condicional/blob/main/exercicio27decisao.ipynb\" target=\"_parent\"><img src=\"https://colab.research.google.com/assets/colab-badge.svg\" alt=\"Open In Colab\"/></a>"
      ]
    },
    {
      "cell_type": "markdown",
      "source": [
        "# ***Exercício 27***\n",
        "Uma fruteira está vendendo frutas com a seguinte tabela de preços:\n",
        "\n",
        "                      Até 5 Kg              Acima de 5 Kg\n",
        "\n",
        "    Morango         R$ 2,50 por Kg          R$ 2,20 por Kg\n",
        "\n",
        "    Maçã            R$ 1,80 por Kg          R$ 1,50 por Kg\n",
        "\n",
        "Se o cliente comprar mais de 8 Kg em frutas ou o valor total da compra ultrapassar R$ 25,00, receberá ainda um desconto de 10% sobre este total. Escreva um algoritmo para ler a quantidade (em Kg) de morangos e a quantidade (em Kg) de maças adquiridas e escreva o valor a ser pago pelo cliente."
      ],
      "metadata": {
        "id": "ynxGDjuORNFf"
      }
    },
    {
      "cell_type": "code",
      "execution_count": 13,
      "metadata": {
        "colab": {
          "base_uri": "https://localhost:8080/"
        },
        "id": "9XCdYHGXRIk_",
        "outputId": "d4a9e70f-0f2c-46c1-dc1f-26bd6fd50517"
      },
      "outputs": [
        {
          "name": "stdout",
          "output_type": "stream",
          "text": [
            "Qual fruta você deseja?\n",
            "1.Morango\n",
            "2.Maça\n",
            "Opção: 2\n",
            "Quantos quilos? 20\n"
          ]
        }
      ],
      "source": [
        "tipo = int(input('Qual fruta você deseja?\\n'\n",
        "                 '1.Morango\\n'\n",
        "                 '2.Maça\\n'\n",
        "                 'Opção: '))\n",
        "if tipo == 1 or tipo == 2:\n",
        "  kg = float(input('Quantos quilos? '))\n",
        "else:\n",
        "  print('Opção Não existe')\n"
      ]
    },
    {
      "cell_type": "code",
      "source": [
        "preco = 0\n",
        "if kg <= 5.0 and tipo == 1:\n",
        "  preco = 2.50 * kg\n",
        "elif kg >= 5.1 and tipo == 1:\n",
        "  preco = 2.20 * kg\n",
        "elif kg <= 5.0 and tipo == 2:\n",
        "  preco = 1.80 * kg\n",
        "elif kg >= 5.1 and tipo == 2:\n",
        "  preco = 1.50 * kg\n",
        "\n",
        "if kg >= 8.0 or preco >= 25.0:\n",
        "  preco = preco - preco * 10 / 100\n",
        "print(f'Quilos adquiridos {kg}, preco {preco}')"
      ],
      "metadata": {
        "colab": {
          "base_uri": "https://localhost:8080/"
        },
        "id": "ZRjPXXaoYXxM",
        "outputId": "bc67dc69-6ee0-4f8a-b64d-c1265e573b1e"
      },
      "execution_count": 15,
      "outputs": [
        {
          "output_type": "stream",
          "name": "stdout",
          "text": [
            "Quilos adquiridos 20.0, preco 27.0\n"
          ]
        }
      ]
    }
  ]
}