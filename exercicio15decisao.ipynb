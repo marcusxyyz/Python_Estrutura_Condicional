{
  "nbformat": 4,
  "nbformat_minor": 0,
  "metadata": {
    "colab": {
      "name": "exercicio15decisao.ipynb",
      "provenance": [],
      "collapsed_sections": [],
      "authorship_tag": "ABX9TyPl3TSF73/1hybUGYP4U0aa",
      "include_colab_link": true
    },
    "kernelspec": {
      "name": "python3",
      "display_name": "Python 3"
    },
    "language_info": {
      "name": "python"
    }
  },
  "cells": [
    {
      "cell_type": "markdown",
      "metadata": {
        "id": "view-in-github",
        "colab_type": "text"
      },
      "source": [
        "<a href=\"https://colab.research.google.com/github/marcusxyyz/Python_Estrutura_Condicional/blob/main/exercicio15decisao.ipynb\" target=\"_parent\"><img src=\"https://colab.research.google.com/assets/colab-badge.svg\" alt=\"Open In Colab\"/></a>"
      ]
    },
    {
      "cell_type": "markdown",
      "source": [
        "# ***Exercício 15***\n",
        "Faça um Programa que peça os 3 lados de um triângulo. O programa deverá informar se os valores podem ser um triângulo. Indique, caso os lados formem um triângulo, se o mesmo é: equilátero, isósceles ou escaleno.\n",
        "Dicas:\n",
        "* Três lados formam um triângulo quando a soma de quaisquer dois lados for maior que o terceiro;\n",
        "\n",
        "* Triângulo Equilátero: três lados iguais;\n",
        "\n",
        "* Triângulo Isósceles: quaisquer dois lados iguais;\n",
        "\n",
        "* Triângulo Escaleno: três lados diferentes;"
      ],
      "metadata": {
        "id": "vQ6w0lx2LsGt"
      }
    },
    {
      "cell_type": "code",
      "execution_count": 28,
      "metadata": {
        "colab": {
          "base_uri": "https://localhost:8080/"
        },
        "id": "DcTXvT8jLjNX",
        "outputId": "efede8da-78ff-44c5-9cd1-c065b2ade1b7"
      },
      "outputs": [
        {
          "name": "stdout",
          "output_type": "stream",
          "text": [
            "Lado 1: 3\n",
            "Lado 2: 3\n",
            "Lado 3: 4\n"
          ]
        }
      ],
      "source": [
        "l1 = float(input('Lado 1: '))\n",
        "l2 = float(input('Lado 2: '))\n",
        "l3 = float(input('Lado 3: '))"
      ]
    },
    {
      "cell_type": "code",
      "source": [
        "triangulo = False\n",
        "if l1 < (l2 + l3) and l2 < (l1 + l3) and l3 < (l1 + l2):\n",
        "  print('Pode Formar um triângulo')\n",
        "  triangulo = True\n",
        "else:\n",
        "  print('Não pode formar um triângulo')"
      ],
      "metadata": {
        "colab": {
          "base_uri": "https://localhost:8080/"
        },
        "id": "z3UolFdXMles",
        "outputId": "eefb45f2-d62e-4c0e-a178-c6815eccc37d"
      },
      "execution_count": 29,
      "outputs": [
        {
          "output_type": "stream",
          "name": "stdout",
          "text": [
            "Pode Formar um triângulo\n"
          ]
        }
      ]
    },
    {
      "cell_type": "code",
      "source": [
        "if (triangulo):\n",
        "  if l1 == l2 and l1 == l3 and l2 == l3:\n",
        "    print('Triângulo Equiláteo')\n",
        "  elif l1 != l2 and l1 != l3 and l2 != l3:\n",
        "    print('Triângulo Escaleno')\n",
        "  else:\n",
        "    print('Triângulo Isóceles')\n"
      ],
      "metadata": {
        "colab": {
          "base_uri": "https://localhost:8080/"
        },
        "id": "WTNBC6LGPA59",
        "outputId": "29b81c33-192d-479c-caaa-f552413294c7"
      },
      "execution_count": 30,
      "outputs": [
        {
          "output_type": "stream",
          "name": "stdout",
          "text": [
            "Triângulo Isóceles\n"
          ]
        }
      ]
    }
  ]
}