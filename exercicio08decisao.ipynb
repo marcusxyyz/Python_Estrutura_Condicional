{
  "nbformat": 4,
  "nbformat_minor": 0,
  "metadata": {
    "colab": {
      "name": "exercicio08decisao.ipynb",
      "provenance": [],
      "collapsed_sections": [],
      "authorship_tag": "ABX9TyM20duVx3hAeACLYEheY6v7",
      "include_colab_link": true
    },
    "kernelspec": {
      "name": "python3",
      "display_name": "Python 3"
    },
    "language_info": {
      "name": "python"
    }
  },
  "cells": [
    {
      "cell_type": "markdown",
      "metadata": {
        "id": "view-in-github",
        "colab_type": "text"
      },
      "source": [
        "<a href=\"https://colab.research.google.com/github/marcusxyyz/Python_Estrutura_Condicional/blob/main/exercicio08decisao.ipynb\" target=\"_parent\"><img src=\"https://colab.research.google.com/assets/colab-badge.svg\" alt=\"Open In Colab\"/></a>"
      ]
    },
    {
      "cell_type": "markdown",
      "source": [
        "# ***Exercicio 08***\n",
        "Faça um programa que pergunte o preço de três produtos e informe qual produto você deve comprar, sabendo que a decisão é sempre pelo mais barato."
      ],
      "metadata": {
        "id": "69rs3Mh5OJOE"
      }
    },
    {
      "cell_type": "code",
      "execution_count": 7,
      "metadata": {
        "colab": {
          "base_uri": "https://localhost:8080/"
        },
        "id": "TjBNeXKPOIxd",
        "outputId": "a46988b9-cbe0-4b48-f728-af82fa30914f"
      },
      "outputs": [
        {
          "name": "stdout",
          "output_type": "stream",
          "text": [
            "Digite o primeiro número: 0.99\n",
            "Digite o segundo número: 10.0\n",
            "Digite o terceiro número: 20.0\n"
          ]
        }
      ],
      "source": [
        "preco1 = float(input(\"Digite o primeiro número: \"))\n",
        "preco2 = float(input(\"Digite o segundo número: \"))\n",
        "preco3 = float(input(\"Digite o terceiro número: \"))"
      ]
    },
    {
      "cell_type": "code",
      "source": [
        "if preco1 < preco2 and preco1 < preco3:\n",
        "  print(f'{preco1} é o menor preço')\n",
        "elif preco2 < preco3:\n",
        "  print(f'{preco2} é o menor preço')\n",
        "else:\n",
        "  print(f'{preco3} é o menor preço')"
      ],
      "metadata": {
        "colab": {
          "base_uri": "https://localhost:8080/"
        },
        "id": "s37H73UuOZBo",
        "outputId": "6610826d-e726-4caf-d057-ded61efcf73b"
      },
      "execution_count": 8,
      "outputs": [
        {
          "output_type": "stream",
          "name": "stdout",
          "text": [
            "0.99 é o menor preço\n"
          ]
        }
      ]
    }
  ]
}