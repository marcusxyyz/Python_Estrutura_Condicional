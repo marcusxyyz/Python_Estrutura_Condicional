{
  "nbformat": 4,
  "nbformat_minor": 0,
  "metadata": {
    "colab": {
      "name": "exercicio04decisao.ipynb",
      "provenance": [],
      "collapsed_sections": [],
      "authorship_tag": "ABX9TyOrF5xzuj3LiW48D20KPbsY",
      "include_colab_link": true
    },
    "kernelspec": {
      "name": "python3",
      "display_name": "Python 3"
    },
    "language_info": {
      "name": "python"
    }
  },
  "cells": [
    {
      "cell_type": "markdown",
      "metadata": {
        "id": "view-in-github",
        "colab_type": "text"
      },
      "source": [
        "<a href=\"https://colab.research.google.com/github/marcusxyyz/Python_Estrutura_Condicional/blob/main/exercicio04decisao.ipynb\" target=\"_parent\"><img src=\"https://colab.research.google.com/assets/colab-badge.svg\" alt=\"Open In Colab\"/></a>"
      ]
    },
    {
      "cell_type": "markdown",
      "source": [
        "# ***Exercicio 04***\n",
        "Faça um Programa que verifique se uma letra digitada é vogal ou consoante"
      ],
      "metadata": {
        "id": "VVCvPr7VKMCw"
      }
    },
    {
      "cell_type": "code",
      "execution_count": 13,
      "metadata": {
        "colab": {
          "base_uri": "https://localhost:8080/"
        },
        "id": "m7tskkU-KIB_",
        "outputId": "c6836f50-02ff-4d13-e333-2b59fb7045ec"
      },
      "outputs": [
        {
          "name": "stdout",
          "output_type": "stream",
          "text": [
            "Informe uma letra: c\n"
          ]
        }
      ],
      "source": [
        "letra = str(input('Informe uma letra: '))\n",
        "letra = letra.upper()"
      ]
    },
    {
      "cell_type": "code",
      "source": [
        "if (letra == 'A' or letra == 'E' or letra == 'I' or letra == 'O' or letra == 'U'):\n",
        "  print(f'A letra {letra} é vogal')\n",
        "else:\n",
        "  print(f'A letra {letra} é consoante')"
      ],
      "metadata": {
        "colab": {
          "base_uri": "https://localhost:8080/"
        },
        "id": "RYB6dbPKKYf3",
        "outputId": "470412f9-4bb0-4f3b-e715-6b120c103710"
      },
      "execution_count": 14,
      "outputs": [
        {
          "output_type": "stream",
          "name": "stdout",
          "text": [
            "A letra C é consoante\n"
          ]
        }
      ]
    }
  ]
}