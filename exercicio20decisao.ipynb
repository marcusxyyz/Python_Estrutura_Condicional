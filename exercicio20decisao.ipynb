{
  "nbformat": 4,
  "nbformat_minor": 0,
  "metadata": {
    "colab": {
      "name": "exercicio20decisao.ipynb",
      "provenance": [],
      "collapsed_sections": [],
      "authorship_tag": "ABX9TyMgf3OSFfwCrbtprXj8Fsxx",
      "include_colab_link": true
    },
    "kernelspec": {
      "name": "python3",
      "display_name": "Python 3"
    },
    "language_info": {
      "name": "python"
    }
  },
  "cells": [
    {
      "cell_type": "markdown",
      "metadata": {
        "id": "view-in-github",
        "colab_type": "text"
      },
      "source": [
        "<a href=\"https://colab.research.google.com/github/marcusxyyz/Python_Estrutura_Condicional/blob/main/exercicio20decisao.ipynb\" target=\"_parent\"><img src=\"https://colab.research.google.com/assets/colab-badge.svg\" alt=\"Open In Colab\"/></a>"
      ]
    },
    {
      "cell_type": "markdown",
      "source": [
        "# ***Exercício 20***\n",
        "\n",
        "Faça um Programa para leitura de três notas parciais de um aluno. O programa deve calcular a média alcançada por aluno e presentar:\n",
        "\n",
        "A mensagem \"Aprovado\", se a média for maior ou igual a 7, com a respectiva média alcançada;\n",
        "\n",
        "A mensagem \"Reprovado\", se a média for menor do que 7, com a respectiva média alcançada;\n",
        "\n",
        "A mensagem \"Aprovado com Distinção\", se a média for igual a 10."
      ],
      "metadata": {
        "id": "QjekKJY9ABlz"
      }
    },
    {
      "cell_type": "code",
      "execution_count": 5,
      "metadata": {
        "colab": {
          "base_uri": "https://localhost:8080/"
        },
        "id": "K0IPZv-0__cj",
        "outputId": "bedc0441-de70-4f09-a9c0-3f6336b8ddaf"
      },
      "outputs": [
        {
          "name": "stdout",
          "output_type": "stream",
          "text": [
            "Nota 1: 5.0\n",
            "Nota 2: 6.0\n",
            "Nota 3: 5.0\n"
          ]
        }
      ],
      "source": [
        "n1 = float(input('Nota 1: '))\n",
        "n2 = float(input('Nota 2: '))\n",
        "n3 = float(input('Nota 3: '))\n",
        "media = (n1+ n2+ n3) / 3.0"
      ]
    },
    {
      "cell_type": "code",
      "source": [
        "if media == 10:\n",
        "  print('Aprovado com Distinção')\n",
        "elif media >= 7.0:\n",
        "  print(f'APROVADO, Média: {round(media, 2)}')\n",
        "else:\n",
        "  print(f'REPROVADO, Média: {round(media, 2)}')"
      ],
      "metadata": {
        "colab": {
          "base_uri": "https://localhost:8080/"
        },
        "id": "bGG2mZh0Aopq",
        "outputId": "1ff3a7f2-b6bd-46e4-e801-6e2e70faa8ff"
      },
      "execution_count": 7,
      "outputs": [
        {
          "output_type": "stream",
          "name": "stdout",
          "text": [
            "REPROVADO, Média: 5.33\n"
          ]
        }
      ]
    }
  ]
}