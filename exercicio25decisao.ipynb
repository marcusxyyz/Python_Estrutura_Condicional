{
  "nbformat": 4,
  "nbformat_minor": 0,
  "metadata": {
    "colab": {
      "name": "exercicio25decisao.ipynb",
      "provenance": [],
      "collapsed_sections": [],
      "authorship_tag": "ABX9TyPOEDmO4d9WvxbnZDjf+DRf",
      "include_colab_link": true
    },
    "kernelspec": {
      "name": "python3",
      "display_name": "Python 3"
    },
    "language_info": {
      "name": "python"
    }
  },
  "cells": [
    {
      "cell_type": "markdown",
      "metadata": {
        "id": "view-in-github",
        "colab_type": "text"
      },
      "source": [
        "<a href=\"https://colab.research.google.com/github/marcusxyyz/Python_Estrutura_Condicional/blob/main/exercicio25decisao.ipynb\" target=\"_parent\"><img src=\"https://colab.research.google.com/assets/colab-badge.svg\" alt=\"Open In Colab\"/></a>"
      ]
    },
    {
      "cell_type": "markdown",
      "source": [
        "Faça um programa que faça 5 perguntas para uma pessoa sobre um crime. As perguntas são:\n",
        "\n",
        "* \"Telefonou para a vítima?\"\n",
        "\n",
        "* \"Esteve no local do crime?\"\n",
        "\n",
        "* \"Mora perto da vítima?\"\n",
        "\n",
        "* \"Devia para a vítima?\"\n",
        "\n",
        "* \"Já trabalhou com a vítima?\" \n",
        "\n",
        "O programa deve no final emitir uma classificação sobre a participação da pessoa no crime.\n",
        "Se a pessoa responder positivamente a 2 questões ela deve ser classificada como \"Suspeita\", entre 3 e 4 como \"Cúmplice\" e 5 como \"Assassino\". Caso contrário, ele será classificado como \"Inocente\"."
      ],
      "metadata": {
        "id": "lE02icPQJ7S4"
      }
    },
    {
      "cell_type": "code",
      "execution_count": 14,
      "metadata": {
        "colab": {
          "base_uri": "https://localhost:8080/"
        },
        "id": "XQ3iV6tDJ2MN",
        "outputId": "c2518fa4-0060-4ef2-d5c1-0b06dbf5fae9"
      },
      "outputs": [
        {
          "output_type": "stream",
          "name": "stdout",
          "text": [
            "Responda com s - sim ou n - Não!!!\n",
            "Telefonou para a vítima? s\n",
            "Esteve no local do crime? s\n",
            "Mora perto da vitima? s\n",
            "Devia para a vítima? s\n",
            "Já trabalhou com a vítima? s\n",
            "\n"
          ]
        }
      ],
      "source": [
        "print('Responda com s - sim ou n - Não!!!')\n",
        "q1 = str(input('Telefonou para a vítima? '))\n",
        "q2 = str(input('Esteve no local do crime? '))\n",
        "q3 = str(input('Mora perto da vitima? '))\n",
        "q4 = str(input('Devia para a vítima? '))\n",
        "q5 = str(input('Já trabalhou com a vítima? '))\n",
        "print()"
      ]
    },
    {
      "cell_type": "code",
      "source": [
        "contador = 0\n",
        "if q1 == 's':\n",
        "  contador += 1\n",
        "if q2 == 's':\n",
        "  contador += 1\n",
        "if q3 == 's':\n",
        "  contador += 1\n",
        "if q4 == 's':\n",
        "  contador += 1\n",
        "if q5 == 's':\n",
        "  contador += 1"
      ],
      "metadata": {
        "id": "qs-bZkVxLVK_"
      },
      "execution_count": 15,
      "outputs": []
    },
    {
      "cell_type": "code",
      "source": [
        "if contador == 5:\n",
        "  print('Você é o ASSASSINO')\n",
        "elif contador >= 3:\n",
        "  print('Você é o Cúmplice')\n",
        "elif contador == 2:\n",
        "  print('Você é um Suspeito')\n",
        "else:\n",
        "  print('você é Inocente')"
      ],
      "metadata": {
        "colab": {
          "base_uri": "https://localhost:8080/"
        },
        "id": "cKXrpScqLmL3",
        "outputId": "d9b406b1-4498-4a85-851a-9a949697e07d"
      },
      "execution_count": 16,
      "outputs": [
        {
          "output_type": "stream",
          "name": "stdout",
          "text": [
            "Você é o ASSASSINO\n"
          ]
        }
      ]
    }
  ]
}