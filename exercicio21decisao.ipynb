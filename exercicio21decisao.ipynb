{
  "nbformat": 4,
  "nbformat_minor": 0,
  "metadata": {
    "colab": {
      "name": "exercicio21decisao.ipynb",
      "provenance": [],
      "authorship_tag": "ABX9TyPNNxlr8gsfOj9ZaENjeuJk",
      "include_colab_link": true
    },
    "kernelspec": {
      "name": "python3",
      "display_name": "Python 3"
    },
    "language_info": {
      "name": "python"
    }
  },
  "cells": [
    {
      "cell_type": "markdown",
      "metadata": {
        "id": "view-in-github",
        "colab_type": "text"
      },
      "source": [
        "<a href=\"https://colab.research.google.com/github/marcusxyyz/Python_Estrutura_Condicional/blob/main/exercicio21decisao.ipynb\" target=\"_parent\"><img src=\"https://colab.research.google.com/assets/colab-badge.svg\" alt=\"Open In Colab\"/></a>"
      ]
    },
    {
      "cell_type": "markdown",
      "source": [
        "# ***Exercício 21***\n",
        "Faça um Programa para um caixa eletrônico. O programa deverá perguntar ao usuário a valor do saque e depois informar quantas notas de cada valor serão fornecidas. As notas disponíveis serão as de 1, 5, 10, 50 e 100 reais. O valor mínimo é de 10 reais e o máximo de 600 reais. O programa não deve se preocupar com a quantidade de notas existentes na máquina.\n",
        "\n",
        "* Exemplo 1: Para sacar a quantia de 256 reais, o programa fornece duas notas de 100, uma nota de 50, uma nota de 5 e uma nota de 1;\n",
        "\n",
        "* Exemplo 2: Para sacar a quantia de 399 reais, o programa fornece três notas de 100, uma nota de 50, quatro notas de 10, uma nota de 5 e quatro notas de 1."
      ],
      "metadata": {
        "id": "EI1-7-9mBduj"
      }
    },
    {
      "cell_type": "code",
      "execution_count": 2,
      "metadata": {
        "colab": {
          "base_uri": "https://localhost:8080/"
        },
        "id": "5CoqTVpeBaIv",
        "outputId": "db6e9778-e6f1-4f53-c17f-d2d4c45b37c2"
      },
      "outputs": [
        {
          "name": "stdout",
          "output_type": "stream",
          "text": [
            "Qual valor do saque? 399\n"
          ]
        }
      ],
      "source": [
        "withdraw = float(input('Qual valor do saque? '))"
      ]
    },
    {
      "cell_type": "code",
      "source": [
        "nota1 = 0\n",
        "nota5 = 0\n",
        "nota10 = 0\n",
        "nota50 = 0\n",
        "nota100 = 0\n",
        "\n",
        "if withdraw < 10 or saque > 600:\n",
        "  print('Não é possível fazer o saque')\n",
        "else:\n",
        "    nota100 = int(withdraw / 100)\n",
        "    withdraw = withdraw % 100\n",
        "\n",
        "    nota50 = int(withdraw / 50)\n",
        "    withdraw = withdraw % 50\n",
        "\n",
        "    nota10 = int(withdraw / 10)\n",
        "    withdraw = withdraw % 10\n",
        "\n",
        "    nota5 = int(withdraw / 5)\n",
        "    withdraw = withdraw % 5\n",
        "    nota1 = int(withdraw)"
      ],
      "metadata": {
        "id": "i-4LyD5vCQR1"
      },
      "execution_count": 3,
      "outputs": []
    },
    {
      "cell_type": "code",
      "source": [
        "print('Notas R$100,00 = ', nota100)\n",
        "print('Notas R$ 50,00 = ', nota50)\n",
        "print('Notas R$ 10,00 = ', nota10)\n",
        "print('Notas R$  5,00 = ', nota5)\n",
        "print('Notas R$  1,00 = ', nota1)\n"
      ],
      "metadata": {
        "colab": {
          "base_uri": "https://localhost:8080/"
        },
        "id": "CZkBecbJCxJS",
        "outputId": "cafdfa04-2e59-4fa2-c1c8-9bb056f304b0"
      },
      "execution_count": 4,
      "outputs": [
        {
          "output_type": "stream",
          "name": "stdout",
          "text": [
            "Notas R$100,00 =  3\n",
            "Notas R$ 50,00 =  1\n",
            "Notas R$ 10,00 =  4\n",
            "Notas R$  5,00 =  1\n",
            "Notas R$  1,00 =  4\n"
          ]
        }
      ]
    }
  ]
}