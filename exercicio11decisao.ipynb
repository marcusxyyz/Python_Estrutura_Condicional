{
  "nbformat": 4,
  "nbformat_minor": 0,
  "metadata": {
    "colab": {
      "name": "exercicio11decisao.ipynb",
      "provenance": [],
      "collapsed_sections": [],
      "authorship_tag": "ABX9TyNyThZ6qb+NHVywOWQddEyB",
      "include_colab_link": true
    },
    "kernelspec": {
      "name": "python3",
      "display_name": "Python 3"
    },
    "language_info": {
      "name": "python"
    }
  },
  "cells": [
    {
      "cell_type": "markdown",
      "metadata": {
        "id": "view-in-github",
        "colab_type": "text"
      },
      "source": [
        "<a href=\"https://colab.research.google.com/github/marcusxyyz/Python_Estrutura_Condicional/blob/main/exercicio11decisao.ipynb\" target=\"_parent\"><img src=\"https://colab.research.google.com/assets/colab-badge.svg\" alt=\"Open In Colab\"/></a>"
      ]
    },
    {
      "cell_type": "markdown",
      "source": [
        "# ***Exercício 11***\n",
        "As Organizações Tabajara resolveram dar um aumento de salário aos seus colaboradores e lhe contraram para desenvolver o programa que calculará os reajustes.\n",
        "Faça um programa que recebe o salário de um colaborador e o reajuste segundo o seguinte critério, baseado no salário atual:\n",
        "\n",
        "*    salários até R$ 280,00 (incluindo) : aumento de 20%\n",
        "\n",
        "*    salários entre R$ 280,00 e R$ 700,00 : aumento de 15%\n",
        "\n",
        "*    salários entre R$ 700,00 e R$ 1500,00 : aumento de 10%\n",
        "\n",
        "*   salários de R$ 1500,00 em diante : aumento de 5% Após o aumento ser realizado, informe na tela:\n",
        "*   o salário antes do reajuste;\n",
        "*   o percentual de aumento aplicado;\n",
        "*   o valor do aumento;\n",
        "*   o novo salário, após o aumento."
      ],
      "metadata": {
        "id": "n5Dd5jhBCMaI"
      }
    },
    {
      "cell_type": "code",
      "execution_count": 14,
      "metadata": {
        "colab": {
          "base_uri": "https://localhost:8080/"
        },
        "id": "7JaeE0MTCJbw",
        "outputId": "47cb250f-f7d5-445c-aa58-cd4564b52369"
      },
      "outputs": [
        {
          "name": "stdout",
          "output_type": "stream",
          "text": [
            "Informe seu salário: 750.0\n"
          ]
        }
      ],
      "source": [
        "salario = float(input(\"Informe seu salário: \"))"
      ]
    },
    {
      "cell_type": "code",
      "source": [
        "porcentagem = 0\n",
        "aumento = 00\n",
        "if salario <= 280.00:\n",
        "  porcentagem = 20 / 100\n",
        "  aumento = salario * porcentagem\n",
        "  novoSalario = salario + aumento\n",
        "elif salario <= 700:\n",
        "  porcentagem = 15 / 100\n",
        "  aumento = salario * porcentagem\n",
        "  novoSalario = salario + aumento\n",
        "elif salario <= 1500.00:\n",
        "  porcentagem = 10 / 100\n",
        "  aumento = salario * porcentagem\n",
        "  novoSalario = salario + aumento\n",
        "else:\n",
        "  porcentagem = 5 / 100\n",
        "  aumento = salario * porcentagem\n",
        "  novoSalario = salario + aumento"
      ],
      "metadata": {
        "id": "n9HwYIzDDFzQ"
      },
      "execution_count": 15,
      "outputs": []
    },
    {
      "cell_type": "code",
      "source": [
        "print(f'Salário antigo: R$ {round(salario, 2)}')\n",
        "print(f'Percentual de aumento aplicado: {round(porcentagem, 2)}%')\n",
        "print(f'Aumento: R$ {aumento}')\n",
        "print(f'Novo Salário: R$ {round(novoSalario, 2)}')"
      ],
      "metadata": {
        "colab": {
          "base_uri": "https://localhost:8080/"
        },
        "id": "Hw3W68-iDwIf",
        "outputId": "a2567838-707b-45ae-8d7d-bfc81b624ccd"
      },
      "execution_count": 19,
      "outputs": [
        {
          "output_type": "stream",
          "name": "stdout",
          "text": [
            "Salário antigo: R$ 750.0\n",
            "Percentual de aumento aplicado: 0.1%\n",
            "Aumento: R$ 75.0\n",
            "Novo Salário: R$ 825.0\n"
          ]
        }
      ]
    }
  ]
}